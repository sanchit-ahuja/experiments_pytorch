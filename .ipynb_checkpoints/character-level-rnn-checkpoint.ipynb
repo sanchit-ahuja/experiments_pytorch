{
 "cells": [
  {
   "cell_type": "code",
   "execution_count": 1,
   "metadata": {},
   "outputs": [],
   "source": [
    "from __future__ import unicode_literals, print_function, division\n",
    "from io import open\n",
    "import glob\n",
    "import os\n",
    "import torch\n",
    "import numpy as np\n",
    "cuda_available = torch.cuda.is_available()\n",
    "device = torch.device('cuda' if torch.cuda.is_available() else 'cpu')"
   ]
  },
  {
   "cell_type": "code",
   "execution_count": 2,
   "metadata": {},
   "outputs": [
    {
     "name": "stdout",
     "output_type": "stream",
     "text": [
      "['data/names/Dutch.txt', 'data/names/English.txt', 'data/names/Chinese.txt', 'data/names/Scottish.txt', 'data/names/Spanish.txt', 'data/names/Korean.txt', 'data/names/Portuguese.txt', 'data/names/Italian.txt', 'data/names/Polish.txt', 'data/names/French.txt', 'data/names/Japanese.txt', 'data/names/Vietnamese.txt', 'data/names/Czech.txt', 'data/names/Russian.txt', 'data/names/Irish.txt', 'data/names/Greek.txt', 'data/names/Arabic.txt', 'data/names/German.txt']\n"
     ]
    }
   ],
   "source": [
    "def findFiles(path): return glob.glob(path)\n",
    "print(findFiles('data/names/*.txt'))\n"
   ]
  },
  {
   "cell_type": "code",
   "execution_count": 3,
   "metadata": {},
   "outputs": [],
   "source": [
    "import unicodedata\n",
    "import string\n",
    "\n",
    "all_letters = string.ascii_letters + \" .,;'\"\n",
    "n_letters = len(all_letters)"
   ]
  },
  {
   "cell_type": "code",
   "execution_count": 4,
   "metadata": {},
   "outputs": [
    {
     "name": "stdout",
     "output_type": "stream",
     "text": [
      "Slusarski\n"
     ]
    }
   ],
   "source": [
    "def unicodeToAscii(s):\n",
    "    return ''.join(\n",
    "        c for c in unicodedata.normalize('NFD', s)\n",
    "        if unicodedata.category(c) != 'Mn'\n",
    "        and c in all_letters\n",
    "    )\n",
    "\n",
    "print(unicodeToAscii('Ślusàrski'))"
   ]
  },
  {
   "cell_type": "code",
   "execution_count": 5,
   "metadata": {},
   "outputs": [],
   "source": [
    "def readLines(filename):\n",
    "    lines = open(filename,encoding = 'utf8').read().strip().split('\\n')\n",
    "    return [unicodeToAscii(line) for line in lines]"
   ]
  },
  {
   "cell_type": "code",
   "execution_count": 6,
   "metadata": {},
   "outputs": [],
   "source": [
    "category_lines = {}\n",
    "all_categories = []"
   ]
  },
  {
   "cell_type": "code",
   "execution_count": 7,
   "metadata": {},
   "outputs": [],
   "source": [
    "for file in findFiles('data/names/*.txt'):\n",
    "    temp_path = file.split('/')\n",
    "    category = temp_path[-1][:-4]\n",
    "    all_categories.append(category)\n",
    "    lines = readLines(file)\n",
    "    category_lines[category] = lines\n"
   ]
  },
  {
   "cell_type": "code",
   "execution_count": 8,
   "metadata": {},
   "outputs": [],
   "source": [
    "def lettertoidx(letter):\n",
    "    return all_letters.find(letter)"
   ]
  },
  {
   "cell_type": "code",
   "execution_count": 9,
   "metadata": {},
   "outputs": [],
   "source": [
    "import torch\n",
    "def lettertotensor(letter):\n",
    "    tens = torch.zeros(1,len(all_letters)).to(device)\n",
    "    tens[0][lettertoidx(letter)] = 1\n",
    "    return tens"
   ]
  },
  {
   "cell_type": "code",
   "execution_count": 10,
   "metadata": {},
   "outputs": [],
   "source": [
    "def linetotensor(line):\n",
    "    tens = torch.zeros(len(line),1,len(all_letters)).to(device)\n",
    "    for i,letter in enumerate(line):\n",
    "        tens[i][0][lettertoidx(letter)] = 1\n",
    "    return tens"
   ]
  },
  {
   "cell_type": "code",
   "execution_count": null,
   "metadata": {},
   "outputs": [],
   "source": []
  },
  {
   "cell_type": "code",
   "execution_count": null,
   "metadata": {},
   "outputs": [],
   "source": [
    "\n"
   ]
  },
  {
   "cell_type": "code",
   "execution_count": 11,
   "metadata": {},
   "outputs": [],
   "source": [
    "class RNN(torch.nn.Module):\n",
    "    def __init__(self,input_size,hidden_size,output_size):\n",
    "        super(RNN,self).__init__()\n",
    "        self.hidden_size = hidden_size\n",
    "        self.i2h = torch.nn.Linear(input_size+hidden_size,hidden_size)\n",
    "        self.i2o = torch.nn.Linear(input_size+hidden_size,output_size)\n",
    "        self.softmax = torch.nn.LogSoftmax(dim = 1)\n",
    "    def forward(self,input,hidden):\n",
    "        combine = torch.cat((input.to(device),hidden.to(device)),1).to(device)\n",
    "        hidden = self.i2h(combine)\n",
    "        output = self.i2o(combine)\n",
    "        output = self.softmax(output)\n",
    "        return output, hidden\n",
    "    def init_hidden(self):\n",
    "        return torch.zeros(1,self.hidden_size).to(device)"
   ]
  },
  {
   "cell_type": "code",
   "execution_count": 12,
   "metadata": {},
   "outputs": [
    {
     "data": {
      "text/plain": [
       "RNN(\n",
       "  (i2h): Linear(in_features=185, out_features=128, bias=True)\n",
       "  (i2o): Linear(in_features=185, out_features=18, bias=True)\n",
       "  (softmax): LogSoftmax()\n",
       ")"
      ]
     },
     "execution_count": 12,
     "metadata": {},
     "output_type": "execute_result"
    }
   ],
   "source": [
    "n_chars = len(all_letters)\n",
    "n_categories = len(all_categories)\n",
    "n_hidden = 128\n",
    "rnn = RNN(n_chars,n_hidden,n_categories)\n",
    "rnn.to(device)"
   ]
  },
  {
   "cell_type": "code",
   "execution_count": 13,
   "metadata": {},
   "outputs": [],
   "source": [
    "input = lettertotensor('A')\n",
    "hidden =torch.zeros(1, n_hidden)\n",
    "\n",
    "output, next_hidden = rnn(input, hidden)"
   ]
  },
  {
   "cell_type": "code",
   "execution_count": 14,
   "metadata": {},
   "outputs": [
    {
     "data": {
      "text/plain": [
       "tensor([[-2.9822, -2.8677, -2.7937, -2.9567, -2.8763, -2.9118, -2.8540, -2.9366,\n",
       "         -2.9070, -2.9700, -2.8724, -2.8681, -2.9248, -2.8715, -2.9141, -2.8194,\n",
       "         -2.8161, -2.9079]], grad_fn=<LogSoftmaxBackward>)"
      ]
     },
     "execution_count": 14,
     "metadata": {},
     "output_type": "execute_result"
    }
   ],
   "source": [
    "# a,b = output.topk(1)\n",
    "output"
   ]
  },
  {
   "cell_type": "code",
   "execution_count": 15,
   "metadata": {},
   "outputs": [],
   "source": [
    "def categoryfromoutput(output):\n",
    "    val,idx = output.topk(1)\n",
    "    idx  = int(idx[0])\n",
    "    return all_categories[idx],idx"
   ]
  },
  {
   "cell_type": "code",
   "execution_count": 16,
   "metadata": {},
   "outputs": [
    {
     "data": {
      "text/plain": [
       "('Chinese', 2)"
      ]
     },
     "execution_count": 16,
     "metadata": {},
     "output_type": "execute_result"
    }
   ],
   "source": [
    "categoryfromoutput(output)"
   ]
  },
  {
   "cell_type": "code",
   "execution_count": 17,
   "metadata": {},
   "outputs": [],
   "source": [
    "import random\n",
    "def randomchoice(l):\n",
    "    return l[random.randint(0,len(l)-1)]"
   ]
  },
  {
   "cell_type": "code",
   "execution_count": 18,
   "metadata": {},
   "outputs": [
    {
     "data": {
      "text/plain": [
       "9"
      ]
     },
     "execution_count": 18,
     "metadata": {},
     "output_type": "execute_result"
    }
   ],
   "source": [
    "all_categories.index('French')"
   ]
  },
  {
   "cell_type": "code",
   "execution_count": 19,
   "metadata": {},
   "outputs": [],
   "source": [
    "def randomtrainingexample():\n",
    "    category = randomchoice(all_categories)\n",
    "#     print(category)\n",
    "    line = randomchoice(category_lines[category])\n",
    "    category_tensor = torch.tensor([all_categories.index(category)],dtype = torch.long)\n",
    "    line_tensor = linetotensor(line)\n",
    "    return category,line,category_tensor,line_tensor"
   ]
  },
  {
   "cell_type": "code",
   "execution_count": 20,
   "metadata": {},
   "outputs": [],
   "source": [
    "randomtrainingexample()\n",
    "import torch.optim as optim"
   ]
  },
  {
   "cell_type": "code",
   "execution_count": 21,
   "metadata": {},
   "outputs": [],
   "source": [
    "criterion = torch.nn.NLLLoss()\n",
    "criterion.to(device)\n",
    "learning_rate = 0.005\n",
    "def train(category_tensor, line_tensor):\n",
    "    hidden = rnn.init_hidden()\n",
    "\n",
    "    rnn.zero_grad()\n",
    "\n",
    "    for i in range(line_tensor.size()[0]):\n",
    "        output, hidden = rnn(line_tensor[i], hidden)\n",
    "\n",
    "    loss = criterion(output.to(device), category_tensor.to(device))\n",
    "    loss.backward()\n",
    "\n",
    "    # Add parameters' gradients to their values, multiplied by learning rate\n",
    "    for p in rnn.parameters():\n",
    "        p.data.add_(p.grad.data, alpha=-learning_rate)\n",
    "\n",
    "    return output, loss.item()"
   ]
  },
  {
   "cell_type": "code",
   "execution_count": 22,
   "metadata": {
    "scrolled": true
   },
   "outputs": [
    {
     "name": "stdout",
     "output_type": "stream",
     "text": [
      "5000 5% (0m 6s) 2.6412 Kunisada / Spanish ✗ (Japanese)\n",
      "10000 10% (0m 12s) 1.7399 Baik / Korean ✓\n",
      "15000 15% (0m 17s) 2.5398 Tikhy / Arabic ✗ (Russian)\n",
      "20000 20% (0m 22s) 0.6528 Nagata / Japanese ✓\n",
      "25000 25% (0m 29s) 1.0554 Ha / Vietnamese ✓\n",
      "30000 30% (0m 38s) 2.6160 Muhlbauer / French ✗ (Czech)\n",
      "35000 35% (0m 51s) 1.9289 Salomon / English ✗ (French)\n",
      "40000 40% (0m 59s) 0.9339 An / Vietnamese ✓\n",
      "45000 45% (1m 4s) 1.1710 Pavia / Spanish ✓\n",
      "50000 50% (1m 10s) 1.6282 Bayer / Arabic ✗ (German)\n",
      "55000 55% (1m 15s) 0.7445 Nazari / Arabic ✓\n",
      "60000 60% (1m 21s) 3.7666 Albuquerque / French ✗ (Portuguese)\n",
      "65000 65% (1m 27s) 0.4518 Miao / Chinese ✓\n",
      "70000 70% (1m 32s) 3.5754 Bove / French ✗ (Italian)\n",
      "75000 75% (1m 38s) 1.7622 Murgia / Spanish ✗ (Italian)\n",
      "80000 80% (1m 43s) 1.2091 Cabral / Portuguese ✓\n",
      "85000 85% (1m 49s) 0.4853 Jackson / Scottish ✓\n",
      "90000 90% (1m 57s) 1.3861 Saller / German ✓\n",
      "95000 95% (2m 7s) 1.5719 Sierzant / French ✗ (Polish)\n",
      "100000 100% (2m 16s) 1.1368 Black / Scottish ✓\n"
     ]
    }
   ],
   "source": [
    "import time\n",
    "import math\n",
    "\n",
    "n_iters = 100000\n",
    "print_every = 5000\n",
    "plot_every = 1000\n",
    "\n",
    "\n",
    "\n",
    "# Keep track of losses for plotting\n",
    "current_loss = 0\n",
    "all_losses = []\n",
    "\n",
    "def timeSince(since):\n",
    "    now = time.time()\n",
    "    s = now - since\n",
    "    m = math.floor(s / 60)\n",
    "    s -= m * 60\n",
    "    return '%dm %ds' % (m, s)\n",
    "\n",
    "start = time.time()\n",
    "\n",
    "for iter in range(1, n_iters + 1):\n",
    "    category, line, category_tensor, line_tensor = randomtrainingexample()\n",
    "    output, loss = train(category_tensor, line_tensor)\n",
    "    current_loss += loss\n",
    "\n",
    "    # Print iter number, loss, name and guess\n",
    "    if iter % print_every == 0:\n",
    "        guess, guess_i = categoryfromoutput(output)\n",
    "        correct = '✓' if guess == category else '✗ (%s)' % category\n",
    "        print('%d %d%% (%s) %.4f %s / %s %s' % (iter, iter / n_iters * 100, timeSince(start), loss, line, guess, correct))\n",
    "\n",
    "    # Add current loss avg to list of losses\n",
    "    if iter % plot_every == 0:\n",
    "        all_losses.append(current_loss / plot_every)\n",
    "        current_loss = 0"
   ]
  },
  {
   "cell_type": "code",
   "execution_count": 23,
   "metadata": {},
   "outputs": [
    {
     "data": {
      "text/plain": [
       "[<matplotlib.lines.Line2D at 0x7f9523536198>]"
      ]
     },
     "execution_count": 23,
     "metadata": {},
     "output_type": "execute_result"
    },
    {
     "data": {
      "image/png": "[encoded data removed]",
      "text/plain": [
       "<Figure size 432x288 with 1 Axes>"
      ]
     },
     "metadata": {
      "needs_background": "light"
     },
     "output_type": "display_data"
    }
   ],
   "source": [
    "import matplotlib.pyplot as plt\n",
    "import matplotlib.ticker as ticker\n",
    "\n",
    "plt.figure()\n",
    "plt.plot(all_losses)"
   ]
  },
  {
   "cell_type": "code",
   "execution_count": null,
   "metadata": {},
   "outputs": [],
   "source": []
  },
  {
   "cell_type": "code",
   "execution_count": 31,
   "metadata": {},
   "outputs": [
    {
     "data": {
      "image/png": "[encoded data removed]",
      "text/plain": [
       "<Figure size 432x288 with 2 Axes>"
      ]
     },
     "metadata": {
      "needs_background": "light"
     },
     "output_type": "display_data"
    }
   ],
   "source": [
    "# evaluation\n",
    "confusion = torch.zeros(n_categories, n_categories)\n",
    "n_confusion = 10000\n",
    "\n",
    "def evaluate(line_tensor):\n",
    "  hidden = rnn.init_hidden()\n",
    "\n",
    "  for i in range(line_tensor.size()[0]):\n",
    "    output, hidden = rnn(line_tensor[i], hidden)\n",
    "  \n",
    "  return output\n",
    "\n",
    "# Going through examples and recording which are correct\n",
    "\n",
    "for i in range(n_confusion):\n",
    "  category, line, category_tensor, line_tensor = randomtrainingexample()\n",
    "  output = evaluate(line_tensor)\n",
    "  guess, guess_i = categoryfromoutput(output)\n",
    "  category_i = all_categories.index(category)\n",
    "  confusion[category_i][guess_i] += 1\n",
    "\n",
    "# normalize the confusion matrix\n",
    "for i in range(n_categories):\n",
    "  confusion[i] = confusion[i] / confusion[i].sum()\n",
    "\n",
    "#  Set up plot\n",
    "fig = plt.figure()\n",
    "ax = fig.add_subplot(111)\n",
    "cax = ax.matshow(confusion.numpy())\n",
    "fig.colorbar(cax)\n",
    "\n",
    "# Set up axes\n",
    "ax.set_xticklabels([''] + all_categories, rotation=90)\n",
    "ax.set_yticklabels([''] + all_categories)\n",
    "\n",
    "# Force label at every tick\n",
    "ax.xaxis.set_major_locator(ticker.MultipleLocator(1))\n",
    "ax.yaxis.set_major_locator(ticker.MultipleLocator(1))\n",
    "\n",
    "# sphinx_gallery_thumbnail_number = 2\n",
    "plt.show()"
   ]
  },
  {
   "cell_type": "code",
   "execution_count": null,
   "metadata": {},
   "outputs": [],
   "source": []
  }
 ],
 "metadata": {
  "kernelspec": {
   "display_name": "Python 3.6.3 64-bit ('winter': conda)",
   "language": "python",
   "name": "python36364bitwintercondaf3e492bd2bd54bde8730e9e3071c1545"
  },
  "language_info": {
   "codemirror_mode": {
    "name": "ipython",
    "version": 3
   },
   "file_extension": ".py",
   "mimetype": "text/x-python",
   "name": "python",
   "nbconvert_exporter": "python",
   "pygments_lexer": "ipython3",
   "version": "3.6.3"
  }
 },
 "nbformat": 4,
 "nbformat_minor": 2
}
